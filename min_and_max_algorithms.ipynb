{
  "nbformat": 4,
  "nbformat_minor": 0,
  "metadata": {
    "colab": {
      "provenance": []
    },
    "kernelspec": {
      "name": "python3",
      "display_name": "Python 3"
    },
    "language_info": {
      "name": "python"
    }
  },
  "cells": [
    {
      "cell_type": "code",
      "execution_count": 3,
      "metadata": {
        "colab": {
          "base_uri": "https://localhost:8080/"
        },
        "id": "TyVChSE2VoZB",
        "outputId": "0ea31a55-00a3-48cb-e45d-2ff50643f73a"
      },
      "outputs": [
        {
          "output_type": "stream",
          "name": "stdout",
          "text": [
            "The optimal value is: 4\n"
          ]
        }
      ],
      "source": [
        "def minmax(depth, node_index, maximizing_player, values):\n",
        "    if depth == 3:\n",
        "        return values[node_index]\n",
        "\n",
        "    if maximizing_player:\n",
        "        return max(minmax(depth + 1, node_index * 2, False, values),\n",
        "                   minmax(depth + 1, node_index * 2 + 1, False, values))\n",
        "    else:\n",
        "        return min(minmax(depth + 1, node_index * 2, True, values),\n",
        "                   minmax(depth + 1, node_index * 2 + 1, True, values))\n",
        "\n",
        "values = [-1, 4, 2, 6, -3, -5, 0, 7]\n",
        "print(\"The optimal value is:\", minmax(0, 0, True, values))"
      ]
    },
    {
      "cell_type": "code",
      "source": [
        "tree = {\n",
        "    'A': {'B': {'D': {'H': -1, 'I': 4}, 'E': {'J': 2, 'K': 6}},\n",
        "          'C': {'F': {'L': -3, 'M': -5}, 'G': {'N': 0, 'O': 7}}\n",
        "         }\n",
        "}\n",
        "\n",
        "def alpha_beta(node, alpha, beta, maximizing_player=True):\n",
        "    if type(node) is not dict:\n",
        "        return node\n",
        "    if maximizing_player:\n",
        "        max_val = float('-inf')\n",
        "        for child in node.values():\n",
        "            value = alpha_beta(child, alpha, beta, False)\n",
        "            max_val = max(max_val, value)\n",
        "            alpha = max(alpha, value)\n",
        "            if beta <= alpha:\n",
        "                break\n",
        "        return max_val\n",
        "    else:\n",
        "        min_val = float('inf')\n",
        "        for child in node.values():\n",
        "            value = alpha_beta(child, alpha, beta, True)\n",
        "            min_val = min(min_val, value)\n",
        "            beta = min(beta, value)\n",
        "            if beta <= alpha:\n",
        "                break\n",
        "        return min_val\n",
        "\n",
        "# Call the function on the root of the tree\n",
        "result = alpha_beta(tree['A'], float('-inf'), float('inf'))\n",
        "print(f\"The value of the root node A after applying Alpha-Beta pruning is {result}\")"
      ],
      "metadata": {
        "colab": {
          "base_uri": "https://localhost:8080/"
        },
        "id": "_CMwrKGmXICe",
        "outputId": "32cd6e19-3871-4095-9a36-e850c62da904"
      },
      "execution_count": 4,
      "outputs": [
        {
          "output_type": "stream",
          "name": "stdout",
          "text": [
            "The value of the root node A after applying Alpha-Beta pruning is 4\n"
          ]
        }
      ]
    }
  ]
}